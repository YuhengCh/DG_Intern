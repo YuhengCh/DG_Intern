{
  "nbformat": 4,
  "nbformat_minor": 0,
  "metadata": {
    "colab": {
      "provenance": [],
      "gpuType": "A100"
    },
    "kernelspec": {
      "name": "python3",
      "display_name": "Python 3"
    },
    "language_info": {
      "name": "python"
    },
    "accelerator": "GPU"
  },
  "cells": [
    {
      "cell_type": "code",
      "execution_count": 1,
      "metadata": {
        "id": "1rVKVw83oR7B"
      },
      "outputs": [],
      "source": [
        "import logging\n",
        "import os\n",
        "import subprocess\n",
        "import yaml\n",
        "import pandas as pd\n",
        "import datetime\n",
        "import gc\n",
        "import re\n",
        "import time\n",
        "import dask.dataframe as dd\n",
        "import modin.pandas as mpd"
      ]
    },
    {
      "cell_type": "code",
      "source": [
        "file_path = '/content/Crimes_-_2001_to_Present.csv'\n",
        "import warnings\n",
        "warnings.filterwarnings(\"ignore\")"
      ],
      "metadata": {
        "id": "QLkp4BrYvn5h"
      },
      "execution_count": 2,
      "outputs": []
    },
    {
      "cell_type": "markdown",
      "source": [
        "## Read the file in different format"
      ],
      "metadata": {
        "id": "0mfJBREzwEQL"
      }
    },
    {
      "cell_type": "code",
      "source": [
        "## Dask\n",
        "time1 = time.time()\n",
        "df = dd.read_csv(file_path)\n",
        "time2 = time.time()\n",
        "duration_d = time2-time1\n",
        "print('Dask duration:', duration_d)\n",
        "\n",
        "## Modin\n",
        "time1 = time.time()\n",
        "df = mpd.read_csv(file_path)\n",
        "time2 = time.time()\n",
        "duration_d = time2-time1\n",
        "print('Modin duration:', duration_d)\n",
        "\n",
        "## Pandas\n",
        "time1 = time.time()\n",
        "df = pd.read_csv(file_path,delimiter=',')\n",
        "time2 = time.time()\n",
        "duration_d = time2-time1\n",
        "print('Pandas duration:', duration_d)"
      ],
      "metadata": {
        "colab": {
          "base_uri": "https://localhost:8080/"
        },
        "id": "V8tAR1MBwDe8",
        "outputId": "0bfaa306-cd84-4931-b1c2-a0b23d718688"
      },
      "execution_count": 4,
      "outputs": [
        {
          "output_type": "stream",
          "name": "stdout",
          "text": [
            "Dask duration: 0.0138397216796875\n"
          ]
        },
        {
          "output_type": "stream",
          "name": "stderr",
          "text": [
            "INFO:distributed.http.proxy:To route to workers diagnostics web server please install jupyter-server-proxy: python -m pip install jupyter-server-proxy\n",
            "INFO:distributed.scheduler:State start\n",
            "INFO:distributed.scheduler:  Scheduler at:     tcp://127.0.0.1:44339\n",
            "INFO:distributed.scheduler:  dashboard at:  http://127.0.0.1:8787/status\n",
            "INFO:distributed.nanny:        Start Nanny at: 'tcp://127.0.0.1:33715'\n",
            "INFO:distributed.nanny:        Start Nanny at: 'tcp://127.0.0.1:46397'\n",
            "INFO:distributed.nanny:        Start Nanny at: 'tcp://127.0.0.1:34321'\n",
            "INFO:distributed.nanny:        Start Nanny at: 'tcp://127.0.0.1:39155'\n",
            "INFO:distributed.nanny:        Start Nanny at: 'tcp://127.0.0.1:42261'\n",
            "INFO:distributed.nanny:        Start Nanny at: 'tcp://127.0.0.1:33143'\n",
            "INFO:distributed.nanny:        Start Nanny at: 'tcp://127.0.0.1:42301'\n",
            "INFO:distributed.nanny:        Start Nanny at: 'tcp://127.0.0.1:36723'\n",
            "INFO:distributed.nanny:        Start Nanny at: 'tcp://127.0.0.1:43509'\n",
            "INFO:distributed.nanny:        Start Nanny at: 'tcp://127.0.0.1:35813'\n",
            "INFO:distributed.nanny:        Start Nanny at: 'tcp://127.0.0.1:35687'\n",
            "INFO:distributed.nanny:        Start Nanny at: 'tcp://127.0.0.1:33697'\n",
            "INFO:distributed.scheduler:Register worker <WorkerState 'tcp://127.0.0.1:36935', name: 1, status: init, memory: 0, processing: 0>\n",
            "INFO:distributed.scheduler:Starting worker compute stream, tcp://127.0.0.1:36935\n",
            "INFO:distributed.core:Starting established connection to tcp://127.0.0.1:57878\n",
            "INFO:distributed.scheduler:Register worker <WorkerState 'tcp://127.0.0.1:39353', name: 0, status: init, memory: 0, processing: 0>\n",
            "INFO:distributed.scheduler:Starting worker compute stream, tcp://127.0.0.1:39353\n",
            "INFO:distributed.core:Starting established connection to tcp://127.0.0.1:57894\n",
            "INFO:distributed.scheduler:Register worker <WorkerState 'tcp://127.0.0.1:36917', name: 4, status: init, memory: 0, processing: 0>\n",
            "INFO:distributed.scheduler:Starting worker compute stream, tcp://127.0.0.1:36917\n",
            "INFO:distributed.core:Starting established connection to tcp://127.0.0.1:57924\n",
            "INFO:distributed.scheduler:Register worker <WorkerState 'tcp://127.0.0.1:33915', name: 3, status: init, memory: 0, processing: 0>\n",
            "INFO:distributed.scheduler:Starting worker compute stream, tcp://127.0.0.1:33915\n",
            "INFO:distributed.core:Starting established connection to tcp://127.0.0.1:57896\n",
            "INFO:distributed.scheduler:Register worker <WorkerState 'tcp://127.0.0.1:40381', name: 7, status: init, memory: 0, processing: 0>\n",
            "INFO:distributed.scheduler:Starting worker compute stream, tcp://127.0.0.1:40381\n",
            "INFO:distributed.core:Starting established connection to tcp://127.0.0.1:57930\n",
            "INFO:distributed.scheduler:Register worker <WorkerState 'tcp://127.0.0.1:44689', name: 11, status: init, memory: 0, processing: 0>\n",
            "INFO:distributed.scheduler:Starting worker compute stream, tcp://127.0.0.1:44689\n",
            "INFO:distributed.core:Starting established connection to tcp://127.0.0.1:57960\n",
            "INFO:distributed.scheduler:Register worker <WorkerState 'tcp://127.0.0.1:41751', name: 6, status: init, memory: 0, processing: 0>\n",
            "INFO:distributed.scheduler:Starting worker compute stream, tcp://127.0.0.1:41751\n",
            "INFO:distributed.core:Starting established connection to tcp://127.0.0.1:57968\n",
            "INFO:distributed.scheduler:Register worker <WorkerState 'tcp://127.0.0.1:37375', name: 5, status: init, memory: 0, processing: 0>\n",
            "INFO:distributed.scheduler:Starting worker compute stream, tcp://127.0.0.1:37375\n",
            "INFO:distributed.core:Starting established connection to tcp://127.0.0.1:57974\n",
            "INFO:distributed.scheduler:Register worker <WorkerState 'tcp://127.0.0.1:36317', name: 9, status: init, memory: 0, processing: 0>\n",
            "INFO:distributed.scheduler:Starting worker compute stream, tcp://127.0.0.1:36317\n",
            "INFO:distributed.core:Starting established connection to tcp://127.0.0.1:57934\n",
            "INFO:distributed.scheduler:Register worker <WorkerState 'tcp://127.0.0.1:35545', name: 10, status: init, memory: 0, processing: 0>\n",
            "INFO:distributed.scheduler:Starting worker compute stream, tcp://127.0.0.1:35545\n",
            "INFO:distributed.core:Starting established connection to tcp://127.0.0.1:57986\n",
            "INFO:distributed.scheduler:Register worker <WorkerState 'tcp://127.0.0.1:37271', name: 2, status: init, memory: 0, processing: 0>\n",
            "INFO:distributed.scheduler:Starting worker compute stream, tcp://127.0.0.1:37271\n",
            "INFO:distributed.core:Starting established connection to tcp://127.0.0.1:57912\n",
            "INFO:distributed.scheduler:Register worker <WorkerState 'tcp://127.0.0.1:45051', name: 8, status: init, memory: 0, processing: 0>\n",
            "INFO:distributed.scheduler:Starting worker compute stream, tcp://127.0.0.1:45051\n",
            "INFO:distributed.core:Starting established connection to tcp://127.0.0.1:57946\n",
            "INFO:distributed.scheduler:Receive client connection: Client-937087a7-3803-11ee-905d-0242ac1c000c\n",
            "INFO:distributed.core:Starting established connection to tcp://127.0.0.1:57988\n"
          ]
        },
        {
          "output_type": "stream",
          "name": "stdout",
          "text": [
            "Modin duration: 2.9903266429901123\n",
            "Pandas duration: 0.06632447242736816\n"
          ]
        }
      ]
    },
    {
      "cell_type": "markdown",
      "source": [
        "Conclusion: Dask has the most efficient computation."
      ],
      "metadata": {
        "id": "LzSqbD2D2UE6"
      }
    },
    {
      "cell_type": "code",
      "source": [
        "df.head(10)"
      ],
      "metadata": {
        "colab": {
          "base_uri": "https://localhost:8080/",
          "height": 801
        },
        "id": "djK-UZZMwkVk",
        "outputId": "44bd3232-d270-4cb5-a072-8001f44e91ba"
      },
      "execution_count": 6,
      "outputs": [
        {
          "output_type": "execute_result",
          "data": {
            "text/plain": [
              "         ID Case Number                    Date                   Block  IUCR  \\\n",
              "0  11646166    JC213529  09/01/2018 12:01:00 AM   082XX S INGLESIDE AVE  0810   \n",
              "1  11645836    JC212333  05/01/2016 12:25:00 AM     055XX S ROCKWELL ST  1153   \n",
              "2  11449702    JB373031  07/31/2018 01:30:00 PM  009XX E HYDE PARK BLVD  2024   \n",
              "3  11643334    JC209972  12/19/2018 04:30:00 PM  056XX W WELLINGTON AVE  1320   \n",
              "4  11645527    JC212744  02/02/2015 10:00:00 AM      069XX W ARCHER AVE  1153   \n",
              "5  11034701    JA366925  01/01/2001 11:00:00 AM         016XX E 86TH PL  1153   \n",
              "6  10224881    HY411873  09/03/2015 06:00:00 PM  044XX S UNIVERSITY AVE  1310   \n",
              "7  11230640    JB152083  12/04/2017 12:00:00 AM    035XX S MICHIGAN AVE  4650   \n",
              "8  11645648    JC212959  01/01/2018 08:00:00 AM     024XX N MONITOR AVE  1153   \n",
              "9  11645959    JC211511  12/20/2018 04:00:00 PM      045XX N ALBANY AVE  2820   \n",
              "\n",
              "         Primary Type                          Description  \\\n",
              "0               THEFT                            OVER $500   \n",
              "1  DECEPTIVE PRACTICE  FINANCIAL IDENTITY THEFT OVER $ 300   \n",
              "2           NARCOTICS                  POSS: HEROIN(WHITE)   \n",
              "3     CRIMINAL DAMAGE                           TO VEHICLE   \n",
              "4  DECEPTIVE PRACTICE  FINANCIAL IDENTITY THEFT OVER $ 300   \n",
              "5  DECEPTIVE PRACTICE  FINANCIAL IDENTITY THEFT OVER $ 300   \n",
              "6     CRIMINAL DAMAGE                          TO PROPERTY   \n",
              "7       OTHER OFFENSE       SEX OFFENDER: FAIL TO REGISTER   \n",
              "8  DECEPTIVE PRACTICE  FINANCIAL IDENTITY THEFT OVER $ 300   \n",
              "9       OTHER OFFENSE                     TELEPHONE THREAT   \n",
              "\n",
              "           Location Description Arrest Domestic  ...  Ward  Community Area  \\\n",
              "0                     RESIDENCE  False     True  ...   8.0            44.0   \n",
              "1                           NaN  False    False  ...  15.0            63.0   \n",
              "2                        STREET   True    False  ...   5.0            41.0   \n",
              "3                        STREET  False    False  ...  31.0            19.0   \n",
              "4                         OTHER  False    False  ...  23.0            56.0   \n",
              "5                     RESIDENCE  False    False  ...   8.0            45.0   \n",
              "6                     RESIDENCE  False    False  ...   4.0            39.0   \n",
              "7  GOVERNMENT BUILDING/PROPERTY   True    False  ...   3.0            35.0   \n",
              "8                     RESIDENCE  False    False  ...  30.0            19.0   \n",
              "9                     RESIDENCE  False    False  ...  33.0            14.0   \n",
              "\n",
              "   FBI Code  X Coordinate Y Coordinate    Year              Updated On  \\\n",
              "0        06           NaN          NaN  2018.0  04/06/2019 04:04:43 PM   \n",
              "1        11           NaN          NaN  2016.0  04/06/2019 04:04:43 PM   \n",
              "2        18           NaN          NaN  2018.0  04/09/2019 04:24:58 PM   \n",
              "3        14           NaN          NaN  2018.0  04/04/2019 04:16:11 PM   \n",
              "4        11           NaN          NaN  2015.0  04/06/2019 04:04:43 PM   \n",
              "5        11           NaN          NaN  2001.0  08/05/2017 03:50:08 PM   \n",
              "6        14     1184667.0    1875669.0  2015.0  02/10/2018 03:50:01 PM   \n",
              "7        26           NaN          NaN  2017.0  04/12/2018 03:55:17 PM   \n",
              "8        11           NaN          NaN  2018.0  04/06/2019 04:04:43 PM   \n",
              "9       08A           NaN          NaN  2018.0  04/06/2019 04:04:43 PM   \n",
              "\n",
              "    Latitude  Longitude                      Location  \n",
              "0        NaN        NaN                           NaN  \n",
              "1        NaN        NaN                           NaN  \n",
              "2        NaN        NaN                           NaN  \n",
              "3        NaN        NaN                           NaN  \n",
              "4        NaN        NaN                           NaN  \n",
              "5        NaN        NaN                           NaN  \n",
              "6  41.813999 -87.598138  (41.81399924, -87.598137918)  \n",
              "7        NaN        NaN                           NaN  \n",
              "8        NaN        NaN                           NaN  \n",
              "9        NaN        NaN                           NaN  \n",
              "\n",
              "[10 rows x 22 columns]"
            ],
            "text/html": [
              "\n",
              "\n",
              "  <div id=\"df-0fe8e0a4-9526-4ea8-adbd-7f206b0d794b\">\n",
              "    <div class=\"colab-df-container\">\n",
              "      <div>\n",
              "<style scoped>\n",
              "    .dataframe tbody tr th:only-of-type {\n",
              "        vertical-align: middle;\n",
              "    }\n",
              "\n",
              "    .dataframe tbody tr th {\n",
              "        vertical-align: top;\n",
              "    }\n",
              "\n",
              "    .dataframe thead th {\n",
              "        text-align: right;\n",
              "    }\n",
              "</style>\n",
              "<table border=\"1\" class=\"dataframe\">\n",
              "  <thead>\n",
              "    <tr style=\"text-align: right;\">\n",
              "      <th></th>\n",
              "      <th>ID</th>\n",
              "      <th>Case Number</th>\n",
              "      <th>Date</th>\n",
              "      <th>Block</th>\n",
              "      <th>IUCR</th>\n",
              "      <th>Primary Type</th>\n",
              "      <th>Description</th>\n",
              "      <th>Location Description</th>\n",
              "      <th>Arrest</th>\n",
              "      <th>Domestic</th>\n",
              "      <th>...</th>\n",
              "      <th>Ward</th>\n",
              "      <th>Community Area</th>\n",
              "      <th>FBI Code</th>\n",
              "      <th>X Coordinate</th>\n",
              "      <th>Y Coordinate</th>\n",
              "      <th>Year</th>\n",
              "      <th>Updated On</th>\n",
              "      <th>Latitude</th>\n",
              "      <th>Longitude</th>\n",
              "      <th>Location</th>\n",
              "    </tr>\n",
              "  </thead>\n",
              "  <tbody>\n",
              "    <tr>\n",
              "      <th>0</th>\n",
              "      <td>11646166</td>\n",
              "      <td>JC213529</td>\n",
              "      <td>09/01/2018 12:01:00 AM</td>\n",
              "      <td>082XX S INGLESIDE AVE</td>\n",
              "      <td>0810</td>\n",
              "      <td>THEFT</td>\n",
              "      <td>OVER $500</td>\n",
              "      <td>RESIDENCE</td>\n",
              "      <td>False</td>\n",
              "      <td>True</td>\n",
              "      <td>...</td>\n",
              "      <td>8.0</td>\n",
              "      <td>44.0</td>\n",
              "      <td>06</td>\n",
              "      <td>NaN</td>\n",
              "      <td>NaN</td>\n",
              "      <td>2018.0</td>\n",
              "      <td>04/06/2019 04:04:43 PM</td>\n",
              "      <td>NaN</td>\n",
              "      <td>NaN</td>\n",
              "      <td>NaN</td>\n",
              "    </tr>\n",
              "    <tr>\n",
              "      <th>1</th>\n",
              "      <td>11645836</td>\n",
              "      <td>JC212333</td>\n",
              "      <td>05/01/2016 12:25:00 AM</td>\n",
              "      <td>055XX S ROCKWELL ST</td>\n",
              "      <td>1153</td>\n",
              "      <td>DECEPTIVE PRACTICE</td>\n",
              "      <td>FINANCIAL IDENTITY THEFT OVER $ 300</td>\n",
              "      <td>NaN</td>\n",
              "      <td>False</td>\n",
              "      <td>False</td>\n",
              "      <td>...</td>\n",
              "      <td>15.0</td>\n",
              "      <td>63.0</td>\n",
              "      <td>11</td>\n",
              "      <td>NaN</td>\n",
              "      <td>NaN</td>\n",
              "      <td>2016.0</td>\n",
              "      <td>04/06/2019 04:04:43 PM</td>\n",
              "      <td>NaN</td>\n",
              "      <td>NaN</td>\n",
              "      <td>NaN</td>\n",
              "    </tr>\n",
              "    <tr>\n",
              "      <th>2</th>\n",
              "      <td>11449702</td>\n",
              "      <td>JB373031</td>\n",
              "      <td>07/31/2018 01:30:00 PM</td>\n",
              "      <td>009XX E HYDE PARK BLVD</td>\n",
              "      <td>2024</td>\n",
              "      <td>NARCOTICS</td>\n",
              "      <td>POSS: HEROIN(WHITE)</td>\n",
              "      <td>STREET</td>\n",
              "      <td>True</td>\n",
              "      <td>False</td>\n",
              "      <td>...</td>\n",
              "      <td>5.0</td>\n",
              "      <td>41.0</td>\n",
              "      <td>18</td>\n",
              "      <td>NaN</td>\n",
              "      <td>NaN</td>\n",
              "      <td>2018.0</td>\n",
              "      <td>04/09/2019 04:24:58 PM</td>\n",
              "      <td>NaN</td>\n",
              "      <td>NaN</td>\n",
              "      <td>NaN</td>\n",
              "    </tr>\n",
              "    <tr>\n",
              "      <th>3</th>\n",
              "      <td>11643334</td>\n",
              "      <td>JC209972</td>\n",
              "      <td>12/19/2018 04:30:00 PM</td>\n",
              "      <td>056XX W WELLINGTON AVE</td>\n",
              "      <td>1320</td>\n",
              "      <td>CRIMINAL DAMAGE</td>\n",
              "      <td>TO VEHICLE</td>\n",
              "      <td>STREET</td>\n",
              "      <td>False</td>\n",
              "      <td>False</td>\n",
              "      <td>...</td>\n",
              "      <td>31.0</td>\n",
              "      <td>19.0</td>\n",
              "      <td>14</td>\n",
              "      <td>NaN</td>\n",
              "      <td>NaN</td>\n",
              "      <td>2018.0</td>\n",
              "      <td>04/04/2019 04:16:11 PM</td>\n",
              "      <td>NaN</td>\n",
              "      <td>NaN</td>\n",
              "      <td>NaN</td>\n",
              "    </tr>\n",
              "    <tr>\n",
              "      <th>4</th>\n",
              "      <td>11645527</td>\n",
              "      <td>JC212744</td>\n",
              "      <td>02/02/2015 10:00:00 AM</td>\n",
              "      <td>069XX W ARCHER AVE</td>\n",
              "      <td>1153</td>\n",
              "      <td>DECEPTIVE PRACTICE</td>\n",
              "      <td>FINANCIAL IDENTITY THEFT OVER $ 300</td>\n",
              "      <td>OTHER</td>\n",
              "      <td>False</td>\n",
              "      <td>False</td>\n",
              "      <td>...</td>\n",
              "      <td>23.0</td>\n",
              "      <td>56.0</td>\n",
              "      <td>11</td>\n",
              "      <td>NaN</td>\n",
              "      <td>NaN</td>\n",
              "      <td>2015.0</td>\n",
              "      <td>04/06/2019 04:04:43 PM</td>\n",
              "      <td>NaN</td>\n",
              "      <td>NaN</td>\n",
              "      <td>NaN</td>\n",
              "    </tr>\n",
              "    <tr>\n",
              "      <th>5</th>\n",
              "      <td>11034701</td>\n",
              "      <td>JA366925</td>\n",
              "      <td>01/01/2001 11:00:00 AM</td>\n",
              "      <td>016XX E 86TH PL</td>\n",
              "      <td>1153</td>\n",
              "      <td>DECEPTIVE PRACTICE</td>\n",
              "      <td>FINANCIAL IDENTITY THEFT OVER $ 300</td>\n",
              "      <td>RESIDENCE</td>\n",
              "      <td>False</td>\n",
              "      <td>False</td>\n",
              "      <td>...</td>\n",
              "      <td>8.0</td>\n",
              "      <td>45.0</td>\n",
              "      <td>11</td>\n",
              "      <td>NaN</td>\n",
              "      <td>NaN</td>\n",
              "      <td>2001.0</td>\n",
              "      <td>08/05/2017 03:50:08 PM</td>\n",
              "      <td>NaN</td>\n",
              "      <td>NaN</td>\n",
              "      <td>NaN</td>\n",
              "    </tr>\n",
              "    <tr>\n",
              "      <th>6</th>\n",
              "      <td>10224881</td>\n",
              "      <td>HY411873</td>\n",
              "      <td>09/03/2015 06:00:00 PM</td>\n",
              "      <td>044XX S UNIVERSITY AVE</td>\n",
              "      <td>1310</td>\n",
              "      <td>CRIMINAL DAMAGE</td>\n",
              "      <td>TO PROPERTY</td>\n",
              "      <td>RESIDENCE</td>\n",
              "      <td>False</td>\n",
              "      <td>False</td>\n",
              "      <td>...</td>\n",
              "      <td>4.0</td>\n",
              "      <td>39.0</td>\n",
              "      <td>14</td>\n",
              "      <td>1184667.0</td>\n",
              "      <td>1875669.0</td>\n",
              "      <td>2015.0</td>\n",
              "      <td>02/10/2018 03:50:01 PM</td>\n",
              "      <td>41.813999</td>\n",
              "      <td>-87.598138</td>\n",
              "      <td>(41.81399924, -87.598137918)</td>\n",
              "    </tr>\n",
              "    <tr>\n",
              "      <th>7</th>\n",
              "      <td>11230640</td>\n",
              "      <td>JB152083</td>\n",
              "      <td>12/04/2017 12:00:00 AM</td>\n",
              "      <td>035XX S MICHIGAN AVE</td>\n",
              "      <td>4650</td>\n",
              "      <td>OTHER OFFENSE</td>\n",
              "      <td>SEX OFFENDER: FAIL TO REGISTER</td>\n",
              "      <td>GOVERNMENT BUILDING/PROPERTY</td>\n",
              "      <td>True</td>\n",
              "      <td>False</td>\n",
              "      <td>...</td>\n",
              "      <td>3.0</td>\n",
              "      <td>35.0</td>\n",
              "      <td>26</td>\n",
              "      <td>NaN</td>\n",
              "      <td>NaN</td>\n",
              "      <td>2017.0</td>\n",
              "      <td>04/12/2018 03:55:17 PM</td>\n",
              "      <td>NaN</td>\n",
              "      <td>NaN</td>\n",
              "      <td>NaN</td>\n",
              "    </tr>\n",
              "    <tr>\n",
              "      <th>8</th>\n",
              "      <td>11645648</td>\n",
              "      <td>JC212959</td>\n",
              "      <td>01/01/2018 08:00:00 AM</td>\n",
              "      <td>024XX N MONITOR AVE</td>\n",
              "      <td>1153</td>\n",
              "      <td>DECEPTIVE PRACTICE</td>\n",
              "      <td>FINANCIAL IDENTITY THEFT OVER $ 300</td>\n",
              "      <td>RESIDENCE</td>\n",
              "      <td>False</td>\n",
              "      <td>False</td>\n",
              "      <td>...</td>\n",
              "      <td>30.0</td>\n",
              "      <td>19.0</td>\n",
              "      <td>11</td>\n",
              "      <td>NaN</td>\n",
              "      <td>NaN</td>\n",
              "      <td>2018.0</td>\n",
              "      <td>04/06/2019 04:04:43 PM</td>\n",
              "      <td>NaN</td>\n",
              "      <td>NaN</td>\n",
              "      <td>NaN</td>\n",
              "    </tr>\n",
              "    <tr>\n",
              "      <th>9</th>\n",
              "      <td>11645959</td>\n",
              "      <td>JC211511</td>\n",
              "      <td>12/20/2018 04:00:00 PM</td>\n",
              "      <td>045XX N ALBANY AVE</td>\n",
              "      <td>2820</td>\n",
              "      <td>OTHER OFFENSE</td>\n",
              "      <td>TELEPHONE THREAT</td>\n",
              "      <td>RESIDENCE</td>\n",
              "      <td>False</td>\n",
              "      <td>False</td>\n",
              "      <td>...</td>\n",
              "      <td>33.0</td>\n",
              "      <td>14.0</td>\n",
              "      <td>08A</td>\n",
              "      <td>NaN</td>\n",
              "      <td>NaN</td>\n",
              "      <td>2018.0</td>\n",
              "      <td>04/06/2019 04:04:43 PM</td>\n",
              "      <td>NaN</td>\n",
              "      <td>NaN</td>\n",
              "      <td>NaN</td>\n",
              "    </tr>\n",
              "  </tbody>\n",
              "</table>\n",
              "<p>10 rows × 22 columns</p>\n",
              "</div>\n",
              "      <button class=\"colab-df-convert\" onclick=\"convertToInteractive('df-0fe8e0a4-9526-4ea8-adbd-7f206b0d794b')\"\n",
              "              title=\"Convert this dataframe to an interactive table.\"\n",
              "              style=\"display:none;\">\n",
              "\n",
              "  <svg xmlns=\"http://www.w3.org/2000/svg\" height=\"24px\"viewBox=\"0 0 24 24\"\n",
              "       width=\"24px\">\n",
              "    <path d=\"M0 0h24v24H0V0z\" fill=\"none\"/>\n",
              "    <path d=\"M18.56 5.44l.94 2.06.94-2.06 2.06-.94-2.06-.94-.94-2.06-.94 2.06-2.06.94zm-11 1L8.5 8.5l.94-2.06 2.06-.94-2.06-.94L8.5 2.5l-.94 2.06-2.06.94zm10 10l.94 2.06.94-2.06 2.06-.94-2.06-.94-.94-2.06-.94 2.06-2.06.94z\"/><path d=\"M17.41 7.96l-1.37-1.37c-.4-.4-.92-.59-1.43-.59-.52 0-1.04.2-1.43.59L10.3 9.45l-7.72 7.72c-.78.78-.78 2.05 0 2.83L4 21.41c.39.39.9.59 1.41.59.51 0 1.02-.2 1.41-.59l7.78-7.78 2.81-2.81c.8-.78.8-2.07 0-2.86zM5.41 20L4 18.59l7.72-7.72 1.47 1.35L5.41 20z\"/>\n",
              "  </svg>\n",
              "      </button>\n",
              "\n",
              "\n",
              "\n",
              "    <div id=\"df-f1a4439b-32f8-45bd-bae3-fb1325bad95e\">\n",
              "      <button class=\"colab-df-quickchart\" onclick=\"quickchart('df-f1a4439b-32f8-45bd-bae3-fb1325bad95e')\"\n",
              "              title=\"Suggest charts.\"\n",
              "              style=\"display:none;\">\n",
              "\n",
              "<svg xmlns=\"http://www.w3.org/2000/svg\" height=\"24px\"viewBox=\"0 0 24 24\"\n",
              "     width=\"24px\">\n",
              "    <g>\n",
              "        <path d=\"M19 3H5c-1.1 0-2 .9-2 2v14c0 1.1.9 2 2 2h14c1.1 0 2-.9 2-2V5c0-1.1-.9-2-2-2zM9 17H7v-7h2v7zm4 0h-2V7h2v10zm4 0h-2v-4h2v4z\"/>\n",
              "    </g>\n",
              "</svg>\n",
              "      </button>\n",
              "    </div>\n",
              "\n",
              "<style>\n",
              "  .colab-df-quickchart {\n",
              "    background-color: #E8F0FE;\n",
              "    border: none;\n",
              "    border-radius: 50%;\n",
              "    cursor: pointer;\n",
              "    display: none;\n",
              "    fill: #1967D2;\n",
              "    height: 32px;\n",
              "    padding: 0 0 0 0;\n",
              "    width: 32px;\n",
              "  }\n",
              "\n",
              "  .colab-df-quickchart:hover {\n",
              "    background-color: #E2EBFA;\n",
              "    box-shadow: 0px 1px 2px rgba(60, 64, 67, 0.3), 0px 1px 3px 1px rgba(60, 64, 67, 0.15);\n",
              "    fill: #174EA6;\n",
              "  }\n",
              "\n",
              "  [theme=dark] .colab-df-quickchart {\n",
              "    background-color: #3B4455;\n",
              "    fill: #D2E3FC;\n",
              "  }\n",
              "\n",
              "  [theme=dark] .colab-df-quickchart:hover {\n",
              "    background-color: #434B5C;\n",
              "    box-shadow: 0px 1px 3px 1px rgba(0, 0, 0, 0.15);\n",
              "    filter: drop-shadow(0px 1px 2px rgba(0, 0, 0, 0.3));\n",
              "    fill: #FFFFFF;\n",
              "  }\n",
              "</style>\n",
              "\n",
              "    <script>\n",
              "      async function quickchart(key) {\n",
              "        const containerElement = document.querySelector('#' + key);\n",
              "        const charts = await google.colab.kernel.invokeFunction(\n",
              "            'suggestCharts', [key], {});\n",
              "      }\n",
              "    </script>\n",
              "\n",
              "      <script>\n",
              "\n",
              "function displayQuickchartButton(domScope) {\n",
              "  let quickchartButtonEl =\n",
              "    domScope.querySelector('#df-f1a4439b-32f8-45bd-bae3-fb1325bad95e button.colab-df-quickchart');\n",
              "  quickchartButtonEl.style.display =\n",
              "    google.colab.kernel.accessAllowed ? 'block' : 'none';\n",
              "}\n",
              "\n",
              "        displayQuickchartButton(document);\n",
              "      </script>\n",
              "      <style>\n",
              "    .colab-df-container {\n",
              "      display:flex;\n",
              "      flex-wrap:wrap;\n",
              "      gap: 12px;\n",
              "    }\n",
              "\n",
              "    .colab-df-convert {\n",
              "      background-color: #E8F0FE;\n",
              "      border: none;\n",
              "      border-radius: 50%;\n",
              "      cursor: pointer;\n",
              "      display: none;\n",
              "      fill: #1967D2;\n",
              "      height: 32px;\n",
              "      padding: 0 0 0 0;\n",
              "      width: 32px;\n",
              "    }\n",
              "\n",
              "    .colab-df-convert:hover {\n",
              "      background-color: #E2EBFA;\n",
              "      box-shadow: 0px 1px 2px rgba(60, 64, 67, 0.3), 0px 1px 3px 1px rgba(60, 64, 67, 0.15);\n",
              "      fill: #174EA6;\n",
              "    }\n",
              "\n",
              "    [theme=dark] .colab-df-convert {\n",
              "      background-color: #3B4455;\n",
              "      fill: #D2E3FC;\n",
              "    }\n",
              "\n",
              "    [theme=dark] .colab-df-convert:hover {\n",
              "      background-color: #434B5C;\n",
              "      box-shadow: 0px 1px 3px 1px rgba(0, 0, 0, 0.15);\n",
              "      filter: drop-shadow(0px 1px 2px rgba(0, 0, 0, 0.3));\n",
              "      fill: #FFFFFF;\n",
              "    }\n",
              "  </style>\n",
              "\n",
              "      <script>\n",
              "        const buttonEl =\n",
              "          document.querySelector('#df-0fe8e0a4-9526-4ea8-adbd-7f206b0d794b button.colab-df-convert');\n",
              "        buttonEl.style.display =\n",
              "          google.colab.kernel.accessAllowed ? 'block' : 'none';\n",
              "\n",
              "        async function convertToInteractive(key) {\n",
              "          const element = document.querySelector('#df-0fe8e0a4-9526-4ea8-adbd-7f206b0d794b');\n",
              "          const dataTable =\n",
              "            await google.colab.kernel.invokeFunction('convertToInteractive',\n",
              "                                                     [key], {});\n",
              "          if (!dataTable) return;\n",
              "\n",
              "          const docLinkHtml = 'Like what you see? Visit the ' +\n",
              "            '<a target=\"_blank\" href=https://colab.research.google.com/notebooks/data_table.ipynb>data table notebook</a>'\n",
              "            + ' to learn more about interactive tables.';\n",
              "          element.innerHTML = '';\n",
              "          dataTable['output_type'] = 'display_data';\n",
              "          await google.colab.output.renderOutput(dataTable, element);\n",
              "          const docLink = document.createElement('div');\n",
              "          docLink.innerHTML = docLinkHtml;\n",
              "          element.appendChild(docLink);\n",
              "        }\n",
              "      </script>\n",
              "    </div>\n",
              "  </div>\n"
            ]
          },
          "metadata": {},
          "execution_count": 6
        }
      ]
    },
    {
      "cell_type": "markdown",
      "source": [
        "## Perform basic validation on data columns"
      ],
      "metadata": {
        "id": "D8EKwbu13geA"
      }
    },
    {
      "cell_type": "code",
      "source": [
        "df.columns"
      ],
      "metadata": {
        "colab": {
          "base_uri": "https://localhost:8080/"
        },
        "id": "xizYFr9-59y8",
        "outputId": "304c93d3-1b2b-4ea1-e1b1-c5194132c37c"
      },
      "execution_count": 5,
      "outputs": [
        {
          "output_type": "execute_result",
          "data": {
            "text/plain": [
              "Index(['ID', 'Case Number', 'Date', 'Block', 'IUCR', 'Primary Type',\n",
              "       'Description', 'Location Description', 'Arrest', 'Domestic', 'Beat',\n",
              "       'District', 'Ward', 'Community Area', 'FBI Code', 'X Coordinate',\n",
              "       'Y Coordinate', 'Year', 'Updated On', 'Latitude', 'Longitude',\n",
              "       'Location'],\n",
              "      dtype='object')"
            ]
          },
          "metadata": {},
          "execution_count": 5
        }
      ]
    },
    {
      "cell_type": "code",
      "source": [
        "def col_header_val(df,table_config):\n",
        "    '''\n",
        "    replace whitespaces in the column\n",
        "    and standardized column names\n",
        "    '''\n",
        "    df.columns = df.columns.str.lower()\n",
        "    df.columns = df.columns.str.replace('[^\\w]','_',regex=True)\n",
        "    expected_col = list(map(lambda x: x.lower(),  table_config['columns']))\n",
        "    expected_col.sort()\n",
        "    df.columns =list(map(lambda x: x.lower(), list(df.columns)))\n",
        "    df = df.reindex(sorted(df.columns), axis=1)\n",
        "    if len(df.columns) == len(expected_col) and list(expected_col)  == list(df.columns):\n",
        "        print(\"column name and column length validation passed\")\n",
        "        return 1\n",
        "    else:\n",
        "        print(\"column name and column length validation failed\")\n",
        "        mismatched_columns_file = list(set(df.columns).difference(expected_col))\n",
        "        print(\"Following File columns are not in the YAML file\",mismatched_columns_file)\n",
        "        missing_YAML_file = list(set(expected_col).difference(df.columns))\n",
        "        print(\"Following YAML columns are not in the file uploaded\",missing_YAML_file)\n",
        "        logging.info(f'df columns: {df.columns}')\n",
        "        logging.info(f'expected columns: {expected_col}')\n",
        "        return 0"
      ],
      "metadata": {
        "id": "aPxrpZWR3iLh"
      },
      "execution_count": 7,
      "outputs": []
    },
    {
      "cell_type": "markdown",
      "source": [
        "## create a YAML file"
      ],
      "metadata": {
        "id": "rMzpWuoW53t-"
      }
    },
    {
      "cell_type": "code",
      "source": [
        "%%writefile file.yaml\n",
        "file_type: csv\n",
        "dataset_name: Crimes_-_2001_to_Present\n",
        "file_name: data\n",
        "table_name: edsurv\n",
        "inbound_delimiter: \",\"\n",
        "outbound_delimiter: \"|\"\n",
        "skip_leading_rows: 1\n",
        "columns:\n",
        "    - ID\n",
        "    - Case_Number\n",
        "    - Date\n",
        "    - Block\n",
        "    - IUCR\n",
        "    - Primary_Type\n",
        "    - Description\n",
        "    - Location_Description\n",
        "    - Arrest\n",
        "    - Domestic\n",
        "    - Beat\n",
        "    - District\n",
        "    - Ward\n",
        "    - Community_Area\n",
        "    - FBI_Code\n",
        "    - X_Coordinate\n",
        "    - Y_Coordinate\n",
        "    - Year\n",
        "    - Location\n",
        "    - Name\n"
      ],
      "metadata": {
        "colab": {
          "base_uri": "https://localhost:8080/"
        },
        "id": "2VHY4K9154kj",
        "outputId": "1f6ac2bd-9fdb-46a9-95b1-4040658df5ee"
      },
      "execution_count": 32,
      "outputs": [
        {
          "output_type": "stream",
          "name": "stdout",
          "text": [
            "Overwriting file.yaml\n"
          ]
        }
      ]
    },
    {
      "cell_type": "code",
      "source": [
        "with open('/content/file.yaml', 'r') as stream:\n",
        "  config_data =  yaml.safe_load(stream)"
      ],
      "metadata": {
        "id": "HKW3_S5F_LUm"
      },
      "execution_count": 33,
      "outputs": []
    },
    {
      "cell_type": "code",
      "source": [
        "col_header_val(df,config_data)"
      ],
      "metadata": {
        "colab": {
          "base_uri": "https://localhost:8080/"
        },
        "id": "gTPmtSil-dDp",
        "outputId": "b034fd6c-c1f5-4600-fdc0-9edb35de844e"
      },
      "execution_count": 34,
      "outputs": [
        {
          "output_type": "stream",
          "name": "stdout",
          "text": [
            "column name and column length validation failed\n",
            "Following File columns are not in the YAML file ['updated_on', 'longitude', 'latitude']\n",
            "Following YAML columns are not in the file uploaded ['name']\n"
          ]
        },
        {
          "output_type": "execute_result",
          "data": {
            "text/plain": [
              "0"
            ]
          },
          "metadata": {},
          "execution_count": 34
        }
      ]
    },
    {
      "cell_type": "markdown",
      "source": [
        "## Validate number of columns and column name of ingested file with YAML."
      ],
      "metadata": {
        "id": "cSbd9pzK_qov"
      }
    },
    {
      "cell_type": "code",
      "source": [
        "print(\"columns of files are:\" ,df.columns)\n",
        "print(\"columns of YAML are:\" ,config_data['columns'])"
      ],
      "metadata": {
        "colab": {
          "base_uri": "https://localhost:8080/"
        },
        "id": "WUHameLS-dqq",
        "outputId": "c5ce1e2b-e406-43a2-d646-f90687a79339"
      },
      "execution_count": 53,
      "outputs": [
        {
          "output_type": "stream",
          "name": "stdout",
          "text": [
            "columns of files are: Index(['id', 'case_number', 'date', 'block', 'iucr', 'primary_type',\n",
            "       'description', 'location_description', 'arrest', 'domestic', 'beat',\n",
            "       'district', 'ward', 'community_area', 'fbi_code', 'x_coordinate',\n",
            "       'y_coordinate', 'year', 'updated_on', 'latitude', 'longitude',\n",
            "       'location'],\n",
            "      dtype='object')\n",
            "columns of YAML are: ['ID', 'Case_Number', 'Date', 'Block', 'IUCR', 'Primary_Type', 'Description', 'Location_Description', 'Arrest', 'Domestic', 'Beat', 'District', 'Ward', 'Community_Area', 'FBI_Code', 'X_Coordinate', 'Y_Coordinate', 'Year', 'Location', 'Name']\n"
          ]
        }
      ]
    },
    {
      "cell_type": "code",
      "source": [
        "if col_header_val(df,config_data)==0:\n",
        "    print(\"validation failed\")\n",
        "    # write code to reject the file\n",
        "else:\n",
        "    print(\"col validation passed\")"
      ],
      "metadata": {
        "colab": {
          "base_uri": "https://localhost:8080/"
        },
        "id": "rpwy6brSD2Ar",
        "outputId": "ff92a584-931c-4e04-a406-21020a9e8497"
      },
      "execution_count": 54,
      "outputs": [
        {
          "output_type": "stream",
          "name": "stdout",
          "text": [
            "column name and column length validation failed\n",
            "Following File columns are not in the YAML file ['updated_on', 'longitude', 'latitude']\n",
            "Following YAML columns are not in the file uploaded ['name']\n",
            "validation failed\n"
          ]
        }
      ]
    },
    {
      "cell_type": "markdown",
      "source": [
        "## Write the file in pipe separated text file (|) in gz format."
      ],
      "metadata": {
        "id": "Je_L5k5_AdEt"
      }
    },
    {
      "cell_type": "code",
      "source": [
        "import csv\n",
        "import gzip\n",
        "\n",
        "df = pd.read_csv(file_path,delimiter=',')\n",
        "\n",
        "# Write csv in gz format in pipe separated text file (|)\n",
        "df.to_csv('crimedata.csv.gz', sep='|', compression='gzip', index=False)"
      ],
      "metadata": {
        "id": "Jwqs1Lfr_4jY"
      },
      "execution_count": 42,
      "outputs": []
    },
    {
      "cell_type": "code",
      "source": [
        "# get the file size\n",
        "file_size = os.path.getsize('/content/crimedata.csv.gz')"
      ],
      "metadata": {
        "id": "rmSz_SKyB5Wi"
      },
      "execution_count": 48,
      "outputs": []
    },
    {
      "cell_type": "code",
      "source": [
        "## Create a summary of the file:\n",
        "## Total number of rows,\n",
        "print(\"rows of rows:\", len(df))\n",
        "\n",
        "## total number of columns\n",
        "print(\"number of columns:\", len(df.columns))\n",
        "\n",
        "## file size\n",
        "print(\"Size (In bytes):\" , file_size)"
      ],
      "metadata": {
        "colab": {
          "base_uri": "https://localhost:8080/"
        },
        "id": "tEF2-j8UDN8y",
        "outputId": "ca871d30-6824-4ace-c1bc-20c62467533b"
      },
      "execution_count": 50,
      "outputs": [
        {
          "output_type": "stream",
          "name": "stdout",
          "text": [
            "rows of rows: 2391128\n",
            "number of columns: 22\n",
            "Size (In bytes): 137324232\n"
          ]
        }
      ]
    },
    {
      "cell_type": "code",
      "source": [],
      "metadata": {
        "id": "lU_aQBYvDhlI"
      },
      "execution_count": null,
      "outputs": []
    }
  ]
}